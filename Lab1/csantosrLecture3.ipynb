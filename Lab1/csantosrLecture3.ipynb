{
 "cells": [
  {
   "cell_type": "markdown",
   "metadata": {},
   "source": [
    "# Introduction to NumPy\n",
    "by Maxwell Margenot\n",
    "\n",
    "Part of the Quantopian Lecture Series:\n",
    "\n",
    "* [www.quantopian.com/lectures](https://www.quantopian.com/lectures)\n",
    "* [github.com/quantopian/research_public](https://github.com/quantopian/research_public)\n",
    "\n",
    "Notebook released under the Creative Commons Attribution 4.0 License."
   ]
  },
  {
   "cell_type": "markdown",
   "metadata": {},
   "source": [
    "NumPy is an incredibly powerful package in Python that is ubiquitous throughout the Quantopian platform. It has strong integration with Pandas, another tool we will be covering in the lecture series. NumPy adds support for multi-dimensional arrays and mathematical functions that allow you to easily perform linear algebra calculations. This lecture will be a collection of linear algebra examples computed using NumPy."
   ]
  },
  {
   "cell_type": "code",
   "execution_count": 1,
   "metadata": {},
   "outputs": [],
   "source": [
    "import numpy as np\n",
    "import matplotlib.pyplot as plt"
   ]
  },
  {
   "cell_type": "markdown",
   "metadata": {},
   "source": [
    "### Basic NumPy arrays"
   ]
  },
  {
   "cell_type": "markdown",
   "metadata": {},
   "source": [
    "The most basic way that we could make use of NumPy in finance is calculating the mean return of a portfolio. Say that we have a list containing the historical return of several stocks."
   ]
  },
  {
   "cell_type": "code",
   "execution_count": 2,
   "metadata": {},
   "outputs": [],
   "source": [
    "stock_list = [3.5, 5, 2, 8, 4.2]"
   ]
  },
  {
   "cell_type": "code",
   "execution_count": 3,
   "metadata": {},
   "outputs": [],
   "source": [
    "normal_list = [1, 2, 3]"
   ]
  },
  {
   "cell_type": "markdown",
   "metadata": {},
   "source": [
    "We can make an array by calling a function on the list:"
   ]
  },
  {
   "cell_type": "code",
   "execution_count": 4,
   "metadata": {},
   "outputs": [
    {
     "name": "stdout",
     "output_type": "stream",
     "text": [
      "[ 3.5  5.   2.   8.   4.2] <class 'numpy.ndarray'>\n"
     ]
    }
   ],
   "source": [
    "returns = np.array(stock_list)\n",
    "print returns, type(returns)"
   ]
  },
  {
   "cell_type": "code",
   "execution_count": 5,
   "metadata": {},
   "outputs": [],
   "source": [
    "fancy_array = np.array(normal_list)"
   ]
  },
  {
   "cell_type": "code",
   "execution_count": 6,
   "metadata": {},
   "outputs": [
    {
     "name": "stdout",
     "output_type": "stream",
     "text": [
      "[1 2 3] <class 'numpy.ndarray'> Im so fancy\n"
     ]
    }
   ],
   "source": [
    "print(fancy_array, type(fancy_array), 'Im so fancy')"
   ]
  },
  {
   "cell_type": "markdown",
   "metadata": {},
   "source": [
    "You'll notice that the type of our array is 'ndarray', not just 'array'. This is because NumPy arrays can be created with multiple dimensions. If we pass np.array() a list of lists, it will create a 2-dimensional array. If we pass a list of lists of lists, it will create a 3-dimensional array, and so on and so forth."
   ]
  },
  {
   "cell_type": "code",
   "execution_count": 7,
   "metadata": {},
   "outputs": [
    {
     "name": "stdout",
     "output_type": "stream",
     "text": [
      "[[1 2]\n",
      " [3 4]] <class 'numpy.ndarray'>\n"
     ]
    }
   ],
   "source": [
    "A = np.array([[1, 2], [3, 4]])\n",
    "print A, type(A)"
   ]
  },
  {
   "cell_type": "markdown",
   "metadata": {},
   "source": [
    "We can access the dimensions of an array by looking at its `shape` member variable."
   ]
  },
  {
   "cell_type": "code",
   "execution_count": 8,
   "metadata": {},
   "outputs": [
    {
     "name": "stdout",
     "output_type": "stream",
     "text": [
      "(2, 2)\n"
     ]
    }
   ],
   "source": [
    "print A.shape"
   ]
  },
  {
   "cell_type": "code",
   "execution_count": 9,
   "metadata": {},
   "outputs": [
    {
     "name": "stdout",
     "output_type": "stream",
     "text": [
      "[[1 2 3]\n",
      " [4 5 6]\n",
      " [7 8 3]] <class 'numpy.ndarray'>\n"
     ]
    }
   ],
   "source": [
    "matrix_3d = np.array([[1,2,3],[4,5,6],[7,8,3]])\n",
    "print(matrix_3d, type(matrix_3d))"
   ]
  },
  {
   "cell_type": "code",
   "execution_count": 10,
   "metadata": {},
   "outputs": [
    {
     "name": "stdout",
     "output_type": "stream",
     "text": [
      "[[1, 2, 3] [4, 5] [6]] <class 'numpy.ndarray'>\n"
     ]
    }
   ],
   "source": [
    "incomplete_matrix_3d = np.array([[1,2,3],[4,5],[6]])\n",
    "print(incomplete_matrix_3d, type(incomplete_matrix_3d))"
   ]
  },
  {
   "cell_type": "markdown",
   "metadata": {},
   "source": [
    "Arrays are indexed in much the same way as lists in Python. Elements of a list begin indexing from $0$ and end at $n - 1$, where $n$ is the length of the array."
   ]
  },
  {
   "cell_type": "code",
   "execution_count": 11,
   "metadata": {},
   "outputs": [
    {
     "name": "stdout",
     "output_type": "stream",
     "text": [
      "3.5 4.2\n"
     ]
    }
   ],
   "source": [
    "print returns[0], returns[len(returns) - 1]"
   ]
  },
  {
   "cell_type": "code",
   "execution_count": 12,
   "metadata": {},
   "outputs": [
    {
     "name": "stdout",
     "output_type": "stream",
     "text": [
      "index 90 is out of bounds for axis 0 with size 3\n"
     ]
    }
   ],
   "source": [
    "try:\n",
    "    print(fancy_array[90])\n",
    "except IndexError as error:\n",
    "    print( error )"
   ]
  },
  {
   "cell_type": "markdown",
   "metadata": {},
   "source": [
    "We can take a slice of an array using a colon, just like in a list."
   ]
  },
  {
   "cell_type": "code",
   "execution_count": 13,
   "metadata": {},
   "outputs": [
    {
     "name": "stdout",
     "output_type": "stream",
     "text": [
      "[ 5.  2.]\n"
     ]
    }
   ],
   "source": [
    "print returns[1:3]"
   ]
  },
  {
   "cell_type": "code",
   "execution_count": 14,
   "metadata": {},
   "outputs": [
    {
     "name": "stdout",
     "output_type": "stream",
     "text": [
      "[1 2 3]\n"
     ]
    }
   ],
   "source": [
    "print(fancy_array[:])"
   ]
  },
  {
   "cell_type": "markdown",
   "metadata": {},
   "source": [
    "A slice of an array, like in a list, will select a group of elements in the array starting from the first element indicated and going up to (but not including) the last element indicated.\n",
    "\n",
    "In the case of multidimensional arrays, many of the same conventions with slicing and indexing hold. We can access the first column of a 2-dimensional array like so:"
   ]
  },
  {
   "cell_type": "code",
   "execution_count": 15,
   "metadata": {},
   "outputs": [
    {
     "name": "stdout",
     "output_type": "stream",
     "text": [
      "[1 3]\n"
     ]
    }
   ],
   "source": [
    "print A[:, 0]"
   ]
  },
  {
   "cell_type": "code",
   "execution_count": 16,
   "metadata": {},
   "outputs": [
    {
     "name": "stdout",
     "output_type": "stream",
     "text": [
      "too many indices for array\n"
     ]
    }
   ],
   "source": [
    "try:\n",
    "    print(incomplete_matrix_3d[:, :])\n",
    "except IndexError as error:\n",
    "    print(error)"
   ]
  },
  {
   "cell_type": "code",
   "execution_count": 17,
   "metadata": {},
   "outputs": [
    {
     "name": "stdout",
     "output_type": "stream",
     "text": [
      "[[1 2 3]\n",
      " [4 5 6]\n",
      " [7 8 3]]\n"
     ]
    }
   ],
   "source": [
    "print(matrix_3d[:, :])"
   ]
  },
  {
   "cell_type": "markdown",
   "metadata": {},
   "source": [
    "And the first row of a 2-dimensional array like so:"
   ]
  },
  {
   "cell_type": "code",
   "execution_count": 18,
   "metadata": {},
   "outputs": [
    {
     "name": "stdout",
     "output_type": "stream",
     "text": [
      "[1 2]\n"
     ]
    }
   ],
   "source": [
    "print A[0, :]"
   ]
  },
  {
   "cell_type": "code",
   "execution_count": 19,
   "metadata": {},
   "outputs": [
    {
     "name": "stdout",
     "output_type": "stream",
     "text": [
      "[4 5 6]\n"
     ]
    }
   ],
   "source": [
    "print(matrix_3d[1,:])"
   ]
  },
  {
   "cell_type": "markdown",
   "metadata": {},
   "source": [
    "Notice that each slice of the array returns yet another array!"
   ]
  },
  {
   "cell_type": "code",
   "execution_count": 20,
   "metadata": {},
   "outputs": [
    {
     "name": "stdout",
     "output_type": "stream",
     "text": [
      "<class 'numpy.ndarray'>\n"
     ]
    }
   ],
   "source": [
    "print type(A[0,:])"
   ]
  },
  {
   "cell_type": "code",
   "execution_count": 21,
   "metadata": {},
   "outputs": [
    {
     "name": "stdout",
     "output_type": "stream",
     "text": [
      "<class 'numpy.ndarray'>\n"
     ]
    }
   ],
   "source": [
    "print(type(matrix_3d[1,:]))"
   ]
  },
  {
   "cell_type": "markdown",
   "metadata": {},
   "source": [
    "Passing only one index to a 2-dimensional array will result in returning the row with the given index as well, providing us with another way to access individual rows."
   ]
  },
  {
   "cell_type": "code",
   "execution_count": 22,
   "metadata": {},
   "outputs": [
    {
     "name": "stdout",
     "output_type": "stream",
     "text": [
      "[1 2]\n"
     ]
    }
   ],
   "source": [
    "print A[0]"
   ]
  },
  {
   "cell_type": "code",
   "execution_count": 23,
   "metadata": {},
   "outputs": [
    {
     "name": "stdout",
     "output_type": "stream",
     "text": [
      "[7 8 3]\n"
     ]
    }
   ],
   "source": [
    "print(matrix_3d[2])"
   ]
  },
  {
   "cell_type": "markdown",
   "metadata": {},
   "source": [
    "Accessing the index of an individual element will return only the element."
   ]
  },
  {
   "cell_type": "code",
   "execution_count": 24,
   "metadata": {},
   "outputs": [
    {
     "name": "stdout",
     "output_type": "stream",
     "text": [
      "4\n"
     ]
    }
   ],
   "source": [
    "print A[1, 1]"
   ]
  },
  {
   "cell_type": "code",
   "execution_count": 25,
   "metadata": {},
   "outputs": [
    {
     "name": "stdout",
     "output_type": "stream",
     "text": [
      "[[1 3]\n",
      " [7 3]]\n"
     ]
    }
   ],
   "source": [
    "print(matrix_3d[0::2, 0::2])"
   ]
  },
  {
   "cell_type": "markdown",
   "metadata": {},
   "source": [
    "#### Array functions\n",
    "\n",
    "Functions built into NumPy can be easily called on arrays. Most functions are applied to an array element-wise (as scalar multiplication is). For example, if we call `log()` on an array, the logarithm will be taken of each element."
   ]
  },
  {
   "cell_type": "code",
   "execution_count": 26,
   "metadata": {},
   "outputs": [
    {
     "name": "stdout",
     "output_type": "stream",
     "text": [
      "[ 1.25276297  1.60943791  0.69314718  2.07944154  1.43508453]\n"
     ]
    }
   ],
   "source": [
    "print np.log(returns)"
   ]
  },
  {
   "cell_type": "code",
   "execution_count": 27,
   "metadata": {},
   "outputs": [
    {
     "name": "stdout",
     "output_type": "stream",
     "text": [
      "[ 0.          0.30103     0.47712125]\n"
     ]
    }
   ],
   "source": [
    "print(np.log10(fancy_array))"
   ]
  },
  {
   "cell_type": "markdown",
   "metadata": {},
   "source": [
    "Some functions return a single value. This is because they treat the array as a collection (similar to a list), performing the designated function. For example, the `mean()` function will do exactly what you expect, calculating the mean of an array."
   ]
  },
  {
   "cell_type": "code",
   "execution_count": 28,
   "metadata": {},
   "outputs": [
    {
     "name": "stdout",
     "output_type": "stream",
     "text": [
      "4.54\n"
     ]
    }
   ],
   "source": [
    "print np.mean(returns)"
   ]
  },
  {
   "cell_type": "code",
   "execution_count": 29,
   "metadata": {},
   "outputs": [
    {
     "name": "stdout",
     "output_type": "stream",
     "text": [
      "2.0\n"
     ]
    }
   ],
   "source": [
    "print(np.mean(fancy_array))"
   ]
  },
  {
   "cell_type": "markdown",
   "metadata": {},
   "source": [
    "Or the `max()` function will return the maximum element of an array."
   ]
  },
  {
   "cell_type": "code",
   "execution_count": 30,
   "metadata": {},
   "outputs": [
    {
     "name": "stdout",
     "output_type": "stream",
     "text": [
      "8.0\n"
     ]
    }
   ],
   "source": [
    "print np.max(returns)"
   ]
  },
  {
   "cell_type": "code",
   "execution_count": 31,
   "metadata": {},
   "outputs": [
    {
     "name": "stdout",
     "output_type": "stream",
     "text": [
      "3\n"
     ]
    }
   ],
   "source": [
    "print(np.max(fancy_array))"
   ]
  },
  {
   "cell_type": "markdown",
   "metadata": {},
   "source": [
    "For further reading on the universal functions in NumPy, check out the [documentation](https://docs.scipy.org/doc/numpy/user/quickstart.html#universal-functions)."
   ]
  },
  {
   "cell_type": "markdown",
   "metadata": {},
   "source": [
    "### Return to the returns\n",
    "\n",
    "Now let's modify our returns array with scalar values. If we add a scalar value to an array it will be added to every element of the array. If we multiply an array by a scalar value it will be multiplied against every element of the array. If we do both, both will happen!"
   ]
  },
  {
   "cell_type": "code",
   "execution_count": 32,
   "metadata": {
    "scrolled": false
   },
   "outputs": [
    {
     "data": {
      "text/plain": [
       "array([ 12. ,  15. ,   9. ,  21. ,  13.4])"
      ]
     },
     "execution_count": 32,
     "metadata": {},
     "output_type": "execute_result"
    }
   ],
   "source": [
    "returns*2 + 5"
   ]
  },
  {
   "cell_type": "code",
   "execution_count": 33,
   "metadata": {},
   "outputs": [
    {
     "name": "stdout",
     "output_type": "stream",
     "text": [
      "np.array:[1 2 3 4 5] vs python list[1, 2, 3, 4, 5]\n",
      "3*np.array:[ 3  6  9 12 15] vs 3*python list[1, 2, 3, 4, 5, 1, 2, 3, 4, 5, 1, 2, 3, 4, 5]\n"
     ]
    }
   ],
   "source": [
    "python_list = [1,2,3,4,5]\n",
    "np_array = np.array(python_list)\n",
    "print('np.array:{} vs python list{}'.format(np_array, python_list))\n",
    "print('3*np.array:{} vs 3*python list{}'.format(3*np_array, 3*python_list))"
   ]
  },
  {
   "cell_type": "markdown",
   "metadata": {},
   "source": [
    "NumPy also has functions specifically built to operate on arrays. Let's take the mean and standard deviation of this group of returns."
   ]
  },
  {
   "cell_type": "code",
   "execution_count": 34,
   "metadata": {},
   "outputs": [
    {
     "name": "stdout",
     "output_type": "stream",
     "text": [
      "Mean:  4.54 Std Dev:  1.99158228552\n"
     ]
    }
   ],
   "source": [
    "print \"Mean: \", np.mean(returns), \"Std Dev: \", np.std(returns)"
   ]
  },
  {
   "cell_type": "code",
   "execution_count": 35,
   "metadata": {},
   "outputs": [
    {
     "name": "stdout",
     "output_type": "stream",
     "text": [
      "Promedio: 2.0 Desviación estandar: 0.816496580927726\n"
     ]
    }
   ],
   "source": [
    "print('Promedio: {} Desviación estandar: {}'.format(np.mean(fancy_array), np.std(fancy_array)))"
   ]
  },
  {
   "cell_type": "markdown",
   "metadata": {},
   "source": [
    "Let's simulate a universe of stocks using NumPy's functions. First we need to create the arrays to hold the assets and returns that we will use to build a portfolio. This is because arrays are created with a fixed size. Their dimensions can't be changed without creating a new array."
   ]
  },
  {
   "cell_type": "code",
   "execution_count": 36,
   "metadata": {},
   "outputs": [],
   "source": [
    "N = 10\n",
    "assets = np.zeros((N, 100))\n",
    "returns = np.zeros((N, 100))"
   ]
  },
  {
   "cell_type": "code",
   "execution_count": 37,
   "metadata": {},
   "outputs": [],
   "source": [
    "some_stocks = 30\n",
    "some_assets = np.zeros((some_stocks, 300))\n",
    "some_returns = np.zeros((some_stocks, 300))"
   ]
  },
  {
   "cell_type": "markdown",
   "metadata": {},
   "source": [
    "This function, `zeroes()`, creates a NumPy array with the given dimensions that is entirely filled in with $0$. We can pass a single value or a tuple of as many dimensions as we like. Passing in the tuple `(N, 100)`, will return a two-dimensional array with $N$ rows and $100$ columns. Our result is a $N \\times 100$ array.\n",
    "\n",
    "Now we will simulate a base asset. We want the universe of stocks to be correlated with each other so we will use this initial value to generate the others."
   ]
  },
  {
   "cell_type": "code",
   "execution_count": 38,
   "metadata": {},
   "outputs": [],
   "source": [
    "R_1 = np.random.normal(1.01, 0.03, 100)\n",
    "returns[0] = R_1\n",
    "assets[0] = np.cumprod(R_1)"
   ]
  },
  {
   "cell_type": "code",
   "execution_count": 39,
   "metadata": {},
   "outputs": [],
   "source": [
    "return_1 = np.random.normal(1.01, 0.03, 300)\n",
    "some_returns[0] = return_1\n",
    "some_assets[0] = np.cumprod(return_1)"
   ]
  },
  {
   "cell_type": "markdown",
   "metadata": {},
   "source": [
    "The `random` module in NumPy is exceedingly useful. It contains methods for sampling from many different probability distributions, some of which are covered in the [random variables lecture](https://www.quantopian.com/lectures/random-variables) in the Quantopian lecture series. In this case we draw $N = 100$ random samples from a normal distribution with mean $1.01$ and standard deviation $0.03$. We treat these as the daily percentage returns of our asset and take the cumulative product of these samples to get the current price.\n",
    "\n",
    "The way we have generated our universe, the the individual $R_i$ vectors are each 1-dimensional arrays and the `returns` and `assets` variables contain 2-dimensional arrays. Above, we set the initial row of both `returns` and `assets` to be the first $R_i$ vector and the cumulative asset price based on those returns, respectively.\n",
    "\n",
    "We will now use this base asset to create a few other random assets that are correlated with it."
   ]
  },
  {
   "cell_type": "code",
   "execution_count": 40,
   "metadata": {},
   "outputs": [],
   "source": [
    "# Generate assets that are correlated with R_1\n",
    "for i in range(1, N):\n",
    "    R_i = R_1 + np.random.normal(0.001, 0.02, 100)\n",
    "    returns[i] = R_i # Set each row of returns equal to the new R_i array\n",
    "    assets[i] = np.cumprod(R_i)\n",
    "    \n",
    "mean_returns = [(np.mean(R) - 1)*100 for R in returns]\n",
    "return_volatilities = [np.std(R) for R in returns]"
   ]
  },
  {
   "cell_type": "code",
   "execution_count": 41,
   "metadata": {},
   "outputs": [],
   "source": [
    "for value in range(1,some_stocks):\n",
    "    return_i = return_1 + np.random.normal(0.001, 0.02, 300)\n",
    "    some_returns[value] = return_i\n",
    "    some_assets[value] = np.cumprod(return_i)\n",
    "\n",
    "mean_some_returns = [(np.mean(some_return) -1)*100 for some_return in some_returns]\n",
    "some_return_volatilities = [np.std(some_return) for some_return in some_returns]"
   ]
  },
  {
   "cell_type": "markdown",
   "metadata": {},
   "source": [
    "Here we generate the remaining $N - 1$ securities that we want in our universe by adding random noise to $R_1$. This ensures that our $N - 1$ other assets will be correlated with the base asset because they have some underlying information that is shared.\n",
    "\n",
    "Let's plot what the mean return of each asset looks like:"
   ]
  },
  {
   "cell_type": "code",
   "execution_count": 42,
   "metadata": {
    "scrolled": false
   },
   "outputs": [
    {
     "data": {
      "image/png": "[encoded data removed]",
      "text/plain": [
       "<Figure size 1008x576 with 1 Axes>"
      ]
     },
     "metadata": {},
     "output_type": "display_data"
    }
   ],
   "source": [
    "plt.bar(np.arange(len(mean_returns)), mean_returns)\n",
    "plt.xlabel('Stock')\n",
    "plt.ylabel('Returns')\n",
    "plt.title('Returns for {0} Random Assets'.format(N));"
   ]
  },
  {
   "cell_type": "code",
   "execution_count": 43,
   "metadata": {},
   "outputs": [
    {
     "data": {
      "image/png": "[encoded data removed]",
      "text/plain": [
       "<Figure size 1008x576 with 1 Axes>"
      ]
     },
     "metadata": {},
     "output_type": "display_data"
    }
   ],
   "source": [
    "plt.bar(np.arange(len(mean_some_returns)), mean_some_returns)\n",
    "plt.xlabel('Stock')\n",
    "plt.ylabel('Returns')\n",
    "plt.title('Returns for {0} Random Assets'.format(some_stocks));"
   ]
  },
  {
   "cell_type": "markdown",
   "metadata": {},
   "source": [
    "### Calculating Expected Return\n",
    "\n",
    "So we have a universe of stocks. Great! Now let's put them together in a portfolio and calculate its expected return and risk.\n",
    "\n",
    "We will start off by generating $N$ random weights for each asset in our portfolio."
   ]
  },
  {
   "cell_type": "code",
   "execution_count": 44,
   "metadata": {},
   "outputs": [],
   "source": [
    "weights = np.random.uniform(0, 1, N)\n",
    "weights = weights/np.sum(weights)"
   ]
  },
  {
   "cell_type": "code",
   "execution_count": 45,
   "metadata": {},
   "outputs": [],
   "source": [
    "some_weights = np.random.uniform(0, 1, some_stocks)\n",
    "some_weights = some_weights/np.sum(some_weights)"
   ]
  },
  {
   "cell_type": "markdown",
   "metadata": {},
   "source": [
    "We have to rescale the weights so that they all add up to $1$. We do this by scaling the weights vector by the sum total of all the weights. This step ensures that we will be using $100\\%$ of the portfolio's cash.\n",
    "\n",
    "To calculate the mean return of the portfolio, we have to scale each asset's return by its designated weight. We can pull each element of each array and multiply them individually, but it's quicker to use NumPy's linear algebra methods. The function that we want is `dot()`. This will calculate the dot product between two arrays for us. So if $v = \\left[ 1, 2, 3 \\right]$ and $w = \\left[4, 5, 6 \\right]$, then:\n",
    "\n",
    "$$ v \\cdot w = 1 \\times 4 + 2 \\times 5 + 3 \\times 6 $$\n",
    "\n",
    "For a one-dimensional vector, the dot product will multiply each element pointwise and add all the products together! In our case, we have a vector of weights, $\\omega = \\left[ \\omega_1, \\omega_2, \\dots \\omega_N\\right]$ and a vector of returns, $\\mu = \\left[ \\mu_1, \\mu_2, \\dots, \\mu_N\\right]$. If we take the dot product of these two we will get:\n",
    "\n",
    "$$ \\omega \\cdot \\mu = \\omega_1\\mu_1 + \\omega_2\\mu_2 + \\dots + \\omega_N\\mu_N = \\mu_P $$\n",
    "\n",
    "This yields the sum of all the asset returns scaled by their respective weights. This the the portfolio's overall expected return!"
   ]
  },
  {
   "cell_type": "code",
   "execution_count": 46,
   "metadata": {},
   "outputs": [
    {
     "name": "stdout",
     "output_type": "stream",
     "text": [
      "Expected return of the portfolio:  0.847513358252\n"
     ]
    }
   ],
   "source": [
    "p_returns = np.dot(weights, mean_returns)\n",
    "print \"Expected return of the portfolio: \", p_returns"
   ]
  },
  {
   "cell_type": "code",
   "execution_count": 47,
   "metadata": {},
   "outputs": [
    {
     "name": "stdout",
     "output_type": "stream",
     "text": [
      "Producto punto: 1.1137771441557032\n"
     ]
    }
   ],
   "source": [
    "some_portafolio_returns = np.dot(some_weights, mean_some_returns)\n",
    "print('Producto punto: {}'.format(some_portafolio_returns))"
   ]
  },
  {
   "cell_type": "markdown",
   "metadata": {},
   "source": [
    "Calculating the mean return is fairly intuitive and does not require too much explanation of linear algebra. However, calculating the variance of our portfolio requires a bit more background."
   ]
  },
  {
   "cell_type": "markdown",
   "metadata": {},
   "source": [
    "#### Beware of NaN values\n",
    "\n",
    "Most of the time, all of these calculations will work without an issue. However, when working with real data we run the risk of having `nan` values in our arrays. This is NumPy's way of saying that the data there is missing or doesn't exist. These `nan` values can lead to errors in mathematical calculations so it is important to be aware of whether your array contains `nan` values and to know how to drop them."
   ]
  },
  {
   "cell_type": "code",
   "execution_count": 48,
   "metadata": {},
   "outputs": [
    {
     "name": "stdout",
     "output_type": "stream",
     "text": [
      "[  1.   2.  nan   4.   5.]\n"
     ]
    }
   ],
   "source": [
    "v = np.array([1, 2, np.nan, 4, 5])\n",
    "print v"
   ]
  },
  {
   "cell_type": "code",
   "execution_count": 49,
   "metadata": {},
   "outputs": [],
   "source": [
    "rare_array = np.array([0,0,0,0,np.nan])"
   ]
  },
  {
   "cell_type": "markdown",
   "metadata": {},
   "source": [
    "Let's see what happens when we try to take the mean of this array."
   ]
  },
  {
   "cell_type": "code",
   "execution_count": 50,
   "metadata": {},
   "outputs": [
    {
     "data": {
      "text/plain": [
       "nan"
      ]
     },
     "execution_count": 50,
     "metadata": {},
     "output_type": "execute_result"
    }
   ],
   "source": [
    "np.mean(v)"
   ]
  },
  {
   "cell_type": "code",
   "execution_count": 51,
   "metadata": {},
   "outputs": [
    {
     "data": {
      "text/plain": [
       "nan"
      ]
     },
     "execution_count": 51,
     "metadata": {},
     "output_type": "execute_result"
    }
   ],
   "source": [
    "np.mean(rare_array)"
   ]
  },
  {
   "cell_type": "markdown",
   "metadata": {},
   "source": [
    "Clearly, `nan` values can have a large impact on our calculations. Fortunately, we can check for `nan` values with the `isnan()` function."
   ]
  },
  {
   "cell_type": "code",
   "execution_count": 52,
   "metadata": {},
   "outputs": [
    {
     "data": {
      "text/plain": [
       "array([False, False,  True, False, False], dtype=bool)"
      ]
     },
     "execution_count": 52,
     "metadata": {},
     "output_type": "execute_result"
    }
   ],
   "source": [
    "np.isnan(v)"
   ]
  },
  {
   "cell_type": "code",
   "execution_count": 53,
   "metadata": {},
   "outputs": [
    {
     "data": {
      "text/plain": [
       "array([False, False, False, False,  True], dtype=bool)"
      ]
     },
     "execution_count": 53,
     "metadata": {},
     "output_type": "execute_result"
    }
   ],
   "source": [
    "np.isnan(rare_array)"
   ]
  },
  {
   "cell_type": "markdown",
   "metadata": {},
   "source": [
    "Calling `isnan()` on an array will call the function on each value of the array, returning a value of `True` if the element is `nan` and `False` if the element is valid. Now, knowing whether your array contains `nan` values is all well and good, but how do we remove `nan`s? Handily enough, NumPy arrays can be indexed by boolean values (`True` or `False`). If we use a boolean array to index an array, we will remove all values of the array that register as `False` under the condition. We use the `isnan()` function in create a boolean array, assigning a `True` value to everything that is *not* `nan` and a `False` to the `nan`s and we use that to index the same array."
   ]
  },
  {
   "cell_type": "code",
   "execution_count": 54,
   "metadata": {},
   "outputs": [
    {
     "name": "stdout",
     "output_type": "stream",
     "text": [
      "[ 1.  2.  4.  5.]\n"
     ]
    }
   ],
   "source": [
    "ix = ~np.isnan(v) # the ~ indicates a logical not, inverting the bools\n",
    "print v[ix] # We can also just write v = v[~np.isnan(v)]"
   ]
  },
  {
   "cell_type": "code",
   "execution_count": 55,
   "metadata": {},
   "outputs": [
    {
     "name": "stdout",
     "output_type": "stream",
     "text": [
      "3.0\n"
     ]
    }
   ],
   "source": [
    "print np.mean(v[ix])"
   ]
  },
  {
   "cell_type": "code",
   "execution_count": 56,
   "metadata": {},
   "outputs": [
    {
     "name": "stdout",
     "output_type": "stream",
     "text": [
      "[ True  True  True  True False]\n"
     ]
    }
   ],
   "source": [
    "print(~np.isnan(rare_array))"
   ]
  },
  {
   "cell_type": "code",
   "execution_count": 57,
   "metadata": {},
   "outputs": [
    {
     "name": "stdout",
     "output_type": "stream",
     "text": [
      "[ 0.  0.  0.  0.]\n"
     ]
    }
   ],
   "source": [
    "print(rare_array[~np.isnan(rare_array)])"
   ]
  },
  {
   "cell_type": "markdown",
   "metadata": {},
   "source": [
    "There are a few shortcuts to this process in the form of NumPy functions specifically built to handle them, such as `nanmean()`."
   ]
  },
  {
   "cell_type": "code",
   "execution_count": 58,
   "metadata": {},
   "outputs": [
    {
     "name": "stdout",
     "output_type": "stream",
     "text": [
      "3.0\n"
     ]
    }
   ],
   "source": [
    "print np.nanmean(v)"
   ]
  },
  {
   "cell_type": "code",
   "execution_count": 59,
   "metadata": {},
   "outputs": [
    {
     "name": "stdout",
     "output_type": "stream",
     "text": [
      "0.0\n"
     ]
    }
   ],
   "source": [
    "print(np.nanmean(rare_array))"
   ]
  },
  {
   "cell_type": "markdown",
   "metadata": {},
   "source": [
    "The `nanmean()` function simply calculates the mean of the array as if there were no `nan` values at all! There are a few more of these functions, so feel free to read more about them in the [documentation](https://docs.scipy.org/doc/numpy/user/index.html). These indeterminate values are more an issue with data than linear algebra itself so it is helpful that there are ways to handle them."
   ]
  },
  {
   "cell_type": "markdown",
   "metadata": {},
   "source": [
    "### Conclusion\n",
    "\n",
    "Linear algebra is pervasive in finance and in general. For example, the calculation of *optimal* weights according to modern portfolio theory is done using linear algebra techniques. The arrays and functions in NumPy allow us to handle these calculations in an intuitive way. For a quick intro to linear algebra and how to use NumPy to do more significant matrix calculations, proceed to the next section."
   ]
  },
  {
   "cell_type": "markdown",
   "metadata": {},
   "source": [
    "## A brief foray into linear algebra\n",
    "\n",
    "Let's start with a basic overview of some linear algebra. Linear algebra comes down to the multiplication and composition of scalar and matrix values. A scalar value is just a real number that we multiply against an array. When we scale a matrix or array using a scalar, we multiply each individual element of that matrix or array by the scalar.\n",
    "\n",
    "A matrix is a collection of values, typically represented by an $m \\times n$ grid, where $m$ is the number of rows and $n$ is the number of columns. The edge lengths $m$ and $n$ do not necessarily have to be different. If we have $m = n$, we call this a square matrix. A particularly interesting case of a matrix is when $m = 1$ or $n = 1$. In this case we have a special case of a matrix that we call a vector. While there is a matrix object in NumPy we will be doing everything using NumPy arrays because they can have dimensions greater than $2$. For the purpose of this section, we will be using matrix and array interchangeably.\n",
    "\n",
    "We can express the matrix equation as:\n",
    "\n",
    "$$ y = A\\cdot x $$\n",
    "\n",
    "Where $A$ is an $m \\times n$ matrix, $y$ is a $m \\times 1$ vector, and $x$ is a $n \\times 1$ vector. On the right-hand side of the equation we are multiplying a matrix by a vector. This requires a little bit more clarification, lest we think that we can go about multiplying any matrices by any other matrices.\n",
    "\n",
    "#### Matrix multiplication\n",
    "\n",
    "With matrix multiplication, the order in which the matrices are multiplied matters. Multiplying a matrix on the left side by another matrix may be just fine, but multiplying on the right may be undefined."
   ]
  },
  {
   "cell_type": "code",
   "execution_count": 60,
   "metadata": {},
   "outputs": [],
   "source": [
    "A = np.array([\n",
    "        [1, 2, 3, 12, 6],\n",
    "        [4, 5, 6, 15, 20],\n",
    "        [7, 8, 9, 10, 10]        \n",
    "    ])\n",
    "B = np.array([\n",
    "        [4, 4, 2],\n",
    "        [2, 3, 1],\n",
    "        [6, 5, 8],\n",
    "        [9, 9, 9]\n",
    "    ])"
   ]
  },
  {
   "cell_type": "code",
   "execution_count": 61,
   "metadata": {},
   "outputs": [],
   "source": [
    "C = np.array([\n",
    "    [23, 54, 75, 93, 26, 35],\n",
    "    [23, 32, 75, 93, 26, 35],\n",
    "    [23, 65, 75, 93, 26, 35],\n",
    "    [23, 12, 75, 93, 26, 35],\n",
    "    [23, 28, 75, 93, 26, 35],\n",
    "    [23, 57, 75, 93, 26, 35],\n",
    "])\n",
    "\n",
    "D = np.array([\n",
    "    [23, 65, 75, 93, 26, 35],\n",
    "    [23, 65, 75, 93, 26, 35],\n",
    "])"
   ]
  },
  {
   "cell_type": "markdown",
   "metadata": {},
   "source": [
    "Notice that the above-defined matrices, $A$ and $B$, have different dimensions. $A$ is $3 \\times 5$ and $B$ is $4 \\times 3$. The general rule of what can and cannot be multiplied in which order is based on the dimensions of the matrices. Specifically, the number of columns in the matrix on the left must be equal to the number of rows in the matrix on the right. In super informal terms, let's say that we have an $m \\times n$ matrix and a $p \\times q$ matrix. If we multiply the first by the second on the right, we get the following:\n",
    "\n",
    "$$ (m \\times n) \\cdot (p \\times q) = (m \\times q) $$\n",
    "\n",
    "So the resultant product has the same number of rows as the left matrix and the same number of columns as the right matrix. This limitation of matrix multiplication with regards to dimensions is important to keep track of when writing code. To demonstrate this, we use the `dot()` function to multiply our matrices below:"
   ]
  },
  {
   "cell_type": "code",
   "execution_count": 62,
   "metadata": {},
   "outputs": [
    {
     "name": "stdout",
     "output_type": "stream",
     "text": [
      "shapes (3,5) and (4,3) not aligned: 5 (dim 1) != 4 (dim 0)\n"
     ]
    }
   ],
   "source": [
    "try:\n",
    "    print np.dot(A, B)\n",
    "except ValueError as error:\n",
    "    print(error)"
   ]
  },
  {
   "cell_type": "code",
   "execution_count": 63,
   "metadata": {},
   "outputs": [
    {
     "name": "stdout",
     "output_type": "stream",
     "text": [
      "shapes (6,6) and (2,6) not aligned: 6 (dim 1) != 2 (dim 0)\n"
     ]
    }
   ],
   "source": [
    "try:\n",
    "    print np.dot(C, D)\n",
    "except ValueError as error:\n",
    "    print(error)"
   ]
  },
  {
   "cell_type": "markdown",
   "metadata": {},
   "source": [
    "These results make sense in accordance with our rule. Multiplying a $3 \\times 5$ matrix on the right by a $4 \\times 3$ matrix results in an error while multiplying a $4 \\times 3$ matrix on the right by a $3 \\times 5$ matrix results in a $4 \\times 5$ matrix."
   ]
  },
  {
   "cell_type": "code",
   "execution_count": 64,
   "metadata": {},
   "outputs": [
    {
     "name": "stdout",
     "output_type": "stream",
     "text": [
      "[[ 34  44  54 128 124]\n",
      " [ 21  27  33  79  82]\n",
      " [ 82 101 120 227 216]\n",
      " [108 135 162 333 324]]\n"
     ]
    }
   ],
   "source": [
    "print np.dot(B, A)"
   ]
  },
  {
   "cell_type": "code",
   "execution_count": 65,
   "metadata": {},
   "outputs": [
    {
     "name": "stdout",
     "output_type": "stream",
     "text": [
      "[[ 7291 12036 23775 29481  8242 11095]\n",
      " [ 7291 12036 23775 29481  8242 11095]]\n"
     ]
    }
   ],
   "source": [
    "print(np.dot(D, C))"
   ]
  },
  {
   "cell_type": "markdown",
   "metadata": {},
   "source": [
    "### Portfolio Variance\n",
    "\n",
    "Let's return to our portfolio example from before. We calculated the expected return of the portfolio, but how do we calculate the variance? We start by trying to evaluate the portfolio as a sum of each individual asset, scaled by it's weight.\n",
    "\n",
    "$$ VAR[P] = VAR[\\omega_1 S_1 + \\omega_2 S_2 + \\cdots + \\omega_N S_N] $$\n",
    "\n",
    "Where $S_0, \\cdots, S_N$ are the assets contained within our universe. If all of our assets were independent of each other, we could simply evaluate this as\n",
    "\n",
    "$$ VAR[P] = VAR[\\omega_1 S_1] + VAR[\\omega_2 S_2] + \\cdots + VAR[\\omega_N S_N] = \\omega_1^2\\sigma_1^2 + \\omega_2^2\\sigma_2^2 + \\cdots + \\omega_N^2\\sigma_N^2 $$\n",
    "\n",
    "However, all of our assets depend on each other by their construction. They are all in some way related to our base asset and therefore each other. We thus have to calculate the variance of the portfolio by including the individual pairwise covariances of each asset. Our formula for the variance of the portfolio:\n",
    "\n",
    "$$ VAR[P] = \\sigma_P^2 = \\sum_i \\omega_i^2\\sigma_i^2 + \\sum_i\\sum_{i\\neq j} \\omega_i\\omega_j\\sigma_i\\sigma_j\\rho_{i, j}, \\ i, j \\in \\lbrace 1, 2, \\cdots, N \\rbrace $$\n",
    "\n",
    "Where $\\rho_{i,j}$ is the correlation between $S_i$ and $S_j$, $\\rho_{i, j} = \\frac{COV[S_i, S_j]}{\\sigma_i\\sigma_j}$. This seems exceedingly complicated, but we can easily handle all of this using NumPy arrays. First, we calculate the covariance matrix that relates all the individual stocks in our universe."
   ]
  },
  {
   "cell_type": "code",
   "execution_count": 66,
   "metadata": {},
   "outputs": [
    {
     "name": "stdout",
     "output_type": "stream",
     "text": [
      "[[ 0.00101113  0.00081323  0.00107887  0.00103997  0.00106462  0.00106301\n",
      "   0.00104551  0.00097008  0.00106669  0.00100609]\n",
      " [ 0.00081323  0.00105363  0.00082939  0.00084042  0.00081154  0.00084141\n",
      "   0.00087059  0.00075656  0.0008472   0.00076336]\n",
      " [ 0.00107887  0.00082939  0.0015288   0.00106908  0.00116274  0.00115371\n",
      "   0.00111935  0.00103662  0.00106033  0.00095989]\n",
      " [ 0.00103997  0.00084042  0.00106908  0.00152854  0.00102967  0.00097986\n",
      "   0.00111326  0.00095882  0.00100456  0.00112813]\n",
      " [ 0.00106462  0.00081154  0.00116274  0.00102967  0.00155343  0.00117958\n",
      "   0.00110224  0.00103546  0.00114643  0.00103229]\n",
      " [ 0.00106301  0.00084141  0.00115371  0.00097986  0.00117958  0.00145326\n",
      "   0.00098639  0.00100199  0.00115938  0.00104521]\n",
      " [ 0.00104551  0.00087059  0.00111935  0.00111326  0.00110224  0.00098639\n",
      "   0.00152349  0.00107147  0.00107976  0.00107063]\n",
      " [ 0.00097008  0.00075656  0.00103662  0.00095882  0.00103546  0.00100199\n",
      "   0.00107147  0.00135595  0.00090339  0.00095987]\n",
      " [ 0.00106669  0.0008472   0.00106033  0.00100456  0.00114643  0.00115938\n",
      "   0.00107976  0.00090339  0.00150324  0.00109069]\n",
      " [ 0.00100609  0.00076336  0.00095989  0.00112813  0.00103229  0.00104521\n",
      "   0.00107063  0.00095987  0.00109069  0.00141694]]\n"
     ]
    }
   ],
   "source": [
    "cov_mat = np.cov(returns)\n",
    "print cov_mat"
   ]
  },
  {
   "cell_type": "code",
   "execution_count": 67,
   "metadata": {},
   "outputs": [
    {
     "name": "stdout",
     "output_type": "stream",
     "text": [
      "[[ 0.0009598   0.00093844  0.00100247  0.00094156  0.00095148  0.00092526\n",
      "   0.00095009  0.00095726  0.00091576  0.00096997  0.00091549  0.00102971\n",
      "   0.00094037  0.00097839  0.00091854  0.00092608  0.00095479  0.00094634\n",
      "   0.00094286  0.00093941  0.00101828  0.0009423   0.00095704  0.00094404\n",
      "   0.00091093  0.00097506  0.00101231  0.00096208  0.00099663  0.00092864]\n",
      " [ 0.00093844  0.0013526   0.00097054  0.00091583  0.00092979  0.00087393\n",
      "   0.00091417  0.00092859  0.00090241  0.00095933  0.00093184  0.00099221\n",
      "   0.00091328  0.00092767  0.00088312  0.0009089   0.00094072  0.00092952\n",
      "   0.0008913   0.00094825  0.0009771   0.00094664  0.00091809  0.00093608\n",
      "   0.00089485  0.00093929  0.00101105  0.00092232  0.00097198  0.00084787]\n",
      " [ 0.00100247  0.00097054  0.00140212  0.00101914  0.00103657  0.00096347\n",
      "   0.00097941  0.00098128  0.00092984  0.00104425  0.0009959   0.00105954\n",
      "   0.00095013  0.00101792  0.00097602  0.00095336  0.00099514  0.00096573\n",
      "   0.00100635  0.00096098  0.00103233  0.00099188  0.0010059   0.00098789\n",
      "   0.000931    0.00105892  0.00106027  0.00102791  0.00105786  0.00099359]\n",
      " [ 0.00094156  0.00091583  0.00101914  0.00128866  0.00094997  0.00093384\n",
      "   0.00091566  0.00092649  0.00090841  0.0009502   0.00087102  0.00098644\n",
      "   0.00092042  0.0009663   0.00095218  0.00088303  0.00095562  0.00088726\n",
      "   0.00092469  0.0009152   0.00102699  0.00087579  0.0009339   0.00094731\n",
      "   0.00086989  0.00092525  0.00099484  0.00095243  0.00098313  0.00093872]\n",
      " [ 0.00095148  0.00092979  0.00103657  0.00094997  0.00138716  0.00093869\n",
      "   0.00090037  0.00096517  0.0009735   0.00098928  0.00090482  0.00105922\n",
      "   0.00092096  0.00098208  0.00089951  0.0009518   0.00092945  0.00094885\n",
      "   0.00095917  0.00093546  0.001044    0.00092898  0.00096366  0.00095178\n",
      "   0.00086821  0.00098046  0.00104249  0.00093858  0.00100463  0.00096674]\n",
      " [ 0.00092526  0.00087393  0.00096347  0.00093384  0.00093869  0.00124468\n",
      "   0.00089987  0.00094594  0.00089977  0.00088446  0.00088907  0.0009884\n",
      "   0.00093364  0.00095571  0.00092277  0.00089191  0.00091078  0.00089715\n",
      "   0.00093797  0.00089207  0.00097639  0.00086757  0.00092552  0.00086456\n",
      "   0.0009026   0.00091275  0.00095701  0.00093153  0.00096507  0.0009212 ]\n",
      " [ 0.00095009  0.00091417  0.00097941  0.00091566  0.00090037  0.00089987\n",
      "   0.00134528  0.00094575  0.00089323  0.00099532  0.00090781  0.00098956\n",
      "   0.00092613  0.00099169  0.00092981  0.00089915  0.00095998  0.00093531\n",
      "   0.00093472  0.00091983  0.00103688  0.00091067  0.00096205  0.00092178\n",
      "   0.00087827  0.00099912  0.00097095  0.00096151  0.00095372  0.00090936]\n",
      " [ 0.00095726  0.00092859  0.00098128  0.00092649  0.00096517  0.00094594\n",
      "   0.00094575  0.00131605  0.00088705  0.00094345  0.00090847  0.00103724\n",
      "   0.00091178  0.00098392  0.0009065   0.00092825  0.00094388  0.0009587\n",
      "   0.00094646  0.00096321  0.00100377  0.00097038  0.00097067  0.00096806\n",
      "   0.00092854  0.0009433   0.00099817  0.00092519  0.00099434  0.00093816]\n",
      " [ 0.00091576  0.00090241  0.00092984  0.00090841  0.0009735   0.00089977\n",
      "   0.00089323  0.00088705  0.00132477  0.00096157  0.0008765   0.00098517\n",
      "   0.00095456  0.00091818  0.00086786  0.0009034   0.00092307  0.00089797\n",
      "   0.00091045  0.00090061  0.00099432  0.00089682  0.00090075  0.00089956\n",
      "   0.0008684   0.00093218  0.00096581  0.00096932  0.0009515   0.00093795]\n",
      " [ 0.00096997  0.00095933  0.00104425  0.0009502   0.00098928  0.00088446\n",
      "   0.00099532  0.00094345  0.00096157  0.00136618  0.0009299   0.00104353\n",
      "   0.00093744  0.0009977   0.00092348  0.00090717  0.00096651  0.00095598\n",
      "   0.00097403  0.00093379  0.0009906   0.00091365  0.00096379  0.00093847\n",
      "   0.0009648   0.00098975  0.00110171  0.00096925  0.00101838  0.00094273]\n",
      " [ 0.00091549  0.00093184  0.0009959   0.00087102  0.00090482  0.00088907\n",
      "   0.00090781  0.00090847  0.0008765   0.0009299   0.00127724  0.00097751\n",
      "   0.00093107  0.00096587  0.00087972  0.00087675  0.00091497  0.00093838\n",
      "   0.00088487  0.00092979  0.00097707  0.00092619  0.00090393  0.00086578\n",
      "   0.00086486  0.00091344  0.00095269  0.00091056  0.00097404  0.00090404]\n",
      " [ 0.00102971  0.00099221  0.00105954  0.00098644  0.00105922  0.0009884\n",
      "   0.00098956  0.00103724  0.00098517  0.00104353  0.00097751  0.0014962\n",
      "   0.00098045  0.00101823  0.00100796  0.00101975  0.00102296  0.00100981\n",
      "   0.00097485  0.00100171  0.00110018  0.00101761  0.00101062  0.00106762\n",
      "   0.00098533  0.00103081  0.00112944  0.00103966  0.00105053  0.00098147]\n",
      " [ 0.00094037  0.00091328  0.00095013  0.00092042  0.00092096  0.00093364\n",
      "   0.00092613  0.00091178  0.00095456  0.00093744  0.00093107  0.00098045\n",
      "   0.00132584  0.00096149  0.00088711  0.00091415  0.00095558  0.00092552\n",
      "   0.00091836  0.00091076  0.00103001  0.00094857  0.00093057  0.00093825\n",
      "   0.00089459  0.0009144   0.00099431  0.00095038  0.00100346  0.00090942]\n",
      " [ 0.00097839  0.00092767  0.00101792  0.0009663   0.00098208  0.00095571\n",
      "   0.00099169  0.00098392  0.00091818  0.0009977   0.00096587  0.00101823\n",
      "   0.00096149  0.00142184  0.00091286  0.00093028  0.00094418  0.00096925\n",
      "   0.00095686  0.00096412  0.00101423  0.00093429  0.00096031  0.0009381\n",
      "   0.00094032  0.00100265  0.00105419  0.0009848   0.00105724  0.00093562]\n",
      " [ 0.00091854  0.00088312  0.00097602  0.00095218  0.00089951  0.00092277\n",
      "   0.00092981  0.0009065   0.00086786  0.00092348  0.00087972  0.00100796\n",
      "   0.00088711  0.00091286  0.0013138   0.00091847  0.00090458  0.00089807\n",
      "   0.00091314  0.00091155  0.00095732  0.00091585  0.00089327  0.0008798\n",
      "   0.00088495  0.0009002   0.00099022  0.00092424  0.00095711  0.00090045]\n",
      " [ 0.00092608  0.0009089   0.00095336  0.00088303  0.0009518   0.00089191\n",
      "   0.00089915  0.00092825  0.0009034   0.00090717  0.00087675  0.00101975\n",
      "   0.00091415  0.00093028  0.00091847  0.00127695  0.00093031  0.00093005\n",
      "   0.00087394  0.00088999  0.00098587  0.0009256   0.00090787  0.00090072\n",
      "   0.00089848  0.00090915  0.0009422   0.00092334  0.00095083  0.00091675]\n",
      " [ 0.00095479  0.00094072  0.00099514  0.00095562  0.00092945  0.00091078\n",
      "   0.00095998  0.00094388  0.00092307  0.00096651  0.00091497  0.00102296\n",
      "   0.00095558  0.00094418  0.00090458  0.00093031  0.00136717  0.00096679\n",
      "   0.0009669   0.00093478  0.00103706  0.00091738  0.00099883  0.00096229\n",
      "   0.00091546  0.00095313  0.00095388  0.00098391  0.00097428  0.00092479]\n",
      " [ 0.00094634  0.00092952  0.00096573  0.00088726  0.00094885  0.00089715\n",
      "   0.00093531  0.0009587   0.00089797  0.00095598  0.00093838  0.00100981\n",
      "   0.00092552  0.00096925  0.00089807  0.00093005  0.00096679  0.00131689\n",
      "   0.00092474  0.00094848  0.00100002  0.00094467  0.00094698  0.00091467\n",
      "   0.00089009  0.00091781  0.00101396  0.0009337   0.00098831  0.00093287]\n",
      " [ 0.00094286  0.0008913   0.00100635  0.00092469  0.00095917  0.00093797\n",
      "   0.00093472  0.00094646  0.00091045  0.00097403  0.00088487  0.00097485\n",
      "   0.00091836  0.00095686  0.00091314  0.00087394  0.0009669   0.00092474\n",
      "   0.00132162  0.00094402  0.00096609  0.00092082  0.00095184  0.00096974\n",
      "   0.00090843  0.00096393  0.00101677  0.00092978  0.00100287  0.0009536 ]\n",
      " [ 0.00093941  0.00094825  0.00096098  0.0009152   0.00093546  0.00089207\n",
      "   0.00091983  0.00096321  0.00090061  0.00093379  0.00092979  0.00100171\n",
      "   0.00091076  0.00096412  0.00091155  0.00088999  0.00093478  0.00094848\n",
      "   0.00094402  0.00134314  0.00095564  0.000883    0.00091502  0.0009047\n",
      "   0.00087234  0.00094668  0.00093776  0.00091827  0.00097133  0.00090672]\n",
      " [ 0.00101828  0.0009771   0.00103233  0.00102699  0.001044    0.00097639\n",
      "   0.00103688  0.00100377  0.00099432  0.0009906   0.00097707  0.00110018\n",
      "   0.00103001  0.00101423  0.00095732  0.00098587  0.00103706  0.00100002\n",
      "   0.00096609  0.00095564  0.00141602  0.00098259  0.00103658  0.00104814\n",
      "   0.00098806  0.00102631  0.00105008  0.00102665  0.00105562  0.0010179 ]\n",
      " [ 0.0009423   0.00094664  0.00099188  0.00087579  0.00092898  0.00086757\n",
      "   0.00091067  0.00097038  0.00089682  0.00091365  0.00092619  0.00101761\n",
      "   0.00094857  0.00093429  0.00091585  0.0009256   0.00091738  0.00094467\n",
      "   0.00092082  0.000883    0.00098259  0.00136147  0.00095877  0.0009343\n",
      "   0.00085608  0.00098065  0.00098755  0.00093963  0.00097432  0.0008986 ]\n",
      " [ 0.00095704  0.00091809  0.0010059   0.0009339   0.00096366  0.00092552\n",
      "   0.00096205  0.00097067  0.00090075  0.00096379  0.00090393  0.00101062\n",
      "   0.00093057  0.00096031  0.00089327  0.00090787  0.00099883  0.00094698\n",
      "   0.00095184  0.00091502  0.00103658  0.00095877  0.00137387  0.00095161\n",
      "   0.00087028  0.00095796  0.00098803  0.00095975  0.00100882  0.00096477]\n",
      " [ 0.00094404  0.00093608  0.00098789  0.00094731  0.00095178  0.00086456\n",
      "   0.00092178  0.00096806  0.00089956  0.00093847  0.00086578  0.00106762\n",
      "   0.00093825  0.0009381   0.0008798   0.00090072  0.00096229  0.00091467\n",
      "   0.00096974  0.0009047   0.00104814  0.0009343   0.00095161  0.00135586\n",
      "   0.00089555  0.00098516  0.00100611  0.00092095  0.00097913  0.00092259]\n",
      " [ 0.00091093  0.00089485  0.000931    0.00086989  0.00086821  0.0009026\n",
      "   0.00087827  0.00092854  0.0008684   0.0009648   0.00086486  0.00098533\n",
      "   0.00089459  0.00094032  0.00088495  0.00089848  0.00091546  0.00089009\n",
      "   0.00090843  0.00087234  0.00098806  0.00085608  0.00087028  0.00089555\n",
      "   0.00132195  0.00089474  0.00096337  0.0009091   0.00096822  0.00083947]\n",
      " [ 0.00097506  0.00093929  0.00105892  0.00092525  0.00098046  0.00091275\n",
      "   0.00099912  0.0009433   0.00093218  0.00098975  0.00091344  0.00103081\n",
      "   0.0009144   0.00100265  0.0009002   0.00090915  0.00095313  0.00091781\n",
      "   0.00096393  0.00094668  0.00102631  0.00098065  0.00095796  0.00098516\n",
      "   0.00089474  0.00142765  0.00101281  0.00098092  0.00097752  0.0009526 ]\n",
      " [ 0.00101231  0.00101105  0.00106027  0.00099484  0.00104249  0.00095701\n",
      "   0.00097095  0.00099817  0.00096581  0.00110171  0.00095269  0.00112944\n",
      "   0.00099431  0.00105419  0.00099022  0.0009422   0.00095388  0.00101396\n",
      "   0.00101677  0.00093776  0.00105008  0.00098755  0.00098803  0.00100611\n",
      "   0.00096337  0.00101281  0.00147603  0.00103978  0.00104524  0.00097963]\n",
      " [ 0.00096208  0.00092232  0.00102791  0.00095243  0.00093858  0.00093153\n",
      "   0.00096151  0.00092519  0.00096932  0.00096925  0.00091056  0.00103966\n",
      "   0.00095038  0.0009848   0.00092424  0.00092334  0.00098391  0.0009337\n",
      "   0.00092978  0.00091827  0.00102665  0.00093963  0.00095975  0.00092095\n",
      "   0.0009091   0.00098092  0.00103978  0.0013172   0.00098107  0.00098066]\n",
      " [ 0.00099663  0.00097198  0.00105786  0.00098313  0.00100463  0.00096507\n",
      "   0.00095372  0.00099434  0.0009515   0.00101838  0.00097404  0.00105053\n",
      "   0.00100346  0.00105724  0.00095711  0.00095083  0.00097428  0.00098831\n",
      "   0.00100287  0.00097133  0.00105562  0.00097432  0.00100882  0.00097913\n",
      "   0.00096822  0.00097752  0.00104524  0.00098107  0.00133413  0.00098499]\n",
      " [ 0.00092864  0.00084787  0.00099359  0.00093872  0.00096674  0.0009212\n",
      "   0.00090936  0.00093816  0.00093795  0.00094273  0.00090404  0.00098147\n",
      "   0.00090942  0.00093562  0.00090045  0.00091675  0.00092479  0.00093287\n",
      "   0.0009536   0.00090672  0.0010179   0.0008986   0.00096477  0.00092259\n",
      "   0.00083947  0.0009526   0.00097963  0.00098066  0.00098499  0.00128498]]\n"
     ]
    }
   ],
   "source": [
    "some_cov_mat = np.cov(some_returns)\n",
    "print(some_cov_mat)"
   ]
  },
  {
   "cell_type": "markdown",
   "metadata": {},
   "source": [
    "This array is not formatted particularly nicely, but a covariance matrix is a very important concept. The covariance matrix is of the form:\n",
    "\n",
    "$$ \\left[\\begin{matrix}\n",
    "VAR[S_1] & COV[S_1, S_2] & \\cdots & COV[S_1, S_N] \\\\\n",
    "COV[S_2, S_1] & VAR[S_2] & \\cdots & COV[S_2, S_N] \\\\\n",
    "\\vdots & \\vdots & \\ddots & \\vdots \\\\\n",
    "COV[S_N, S_1] & COV[S_N, S_2] & \\cdots & VAR[S_N]\n",
    "\\end{matrix}\\right] $$\n",
    "\n",
    "So each diagonal entry is the variance of that asset at that index and each off-diagonal holds the covariance of two assets indexed by the column and row number. What is important is that once we have the covariance matrix we are able to do some very quick linear algebra to calculate the variance of the overall portfolio. We can represent the variance of the portfolio in array form as:\n",
    "\n",
    "$$ \\sigma_p^2 = \\omega \\ C \\ \\omega^\\intercal$$\n",
    "\n",
    "Where $C$ is the covariance matrix of all the assets and $\\omega$ is the array containing the weights of each individual asset. The superscript $\\intercal$ on the second $\\omega$ listed above denotes the **transpose** of $\\omega$. For a reference on the evaluation of the variance of a portfolio as a matrix equation, please see the Wikipedia article on [modern portfolio theory](https://en.wikipedia.org/wiki/Modern_portfolio_theory).\n",
    "\n",
    "The transpose of an array is what you get when you switch the rows and columns of an array. This has the effect of reflecting an array across what you might imagine as a diagonal. For example, take our array $A$ from before:"
   ]
  },
  {
   "cell_type": "code",
   "execution_count": 68,
   "metadata": {},
   "outputs": [
    {
     "name": "stdout",
     "output_type": "stream",
     "text": [
      "[[ 1  2  3 12  6]\n",
      " [ 4  5  6 15 20]\n",
      " [ 7  8  9 10 10]]\n"
     ]
    }
   ],
   "source": [
    "print A"
   ]
  },
  {
   "cell_type": "markdown",
   "metadata": {},
   "source": [
    "The transpose looks like a mirror image of the same array."
   ]
  },
  {
   "cell_type": "code",
   "execution_count": 69,
   "metadata": {},
   "outputs": [
    {
     "name": "stdout",
     "output_type": "stream",
     "text": [
      "[[ 1  4  7]\n",
      " [ 2  5  8]\n",
      " [ 3  6  9]\n",
      " [12 15 10]\n",
      " [ 6 20 10]]\n"
     ]
    }
   ],
   "source": [
    "print np.transpose(A)"
   ]
  },
  {
   "cell_type": "code",
   "execution_count": 70,
   "metadata": {},
   "outputs": [
    {
     "name": "stdout",
     "output_type": "stream",
     "text": [
      "[[23 54 75 93 26 35]\n",
      " [23 32 75 93 26 35]\n",
      " [23 65 75 93 26 35]\n",
      " [23 12 75 93 26 35]\n",
      " [23 28 75 93 26 35]\n",
      " [23 57 75 93 26 35]]\n",
      "[[23 23 23 23 23 23]\n",
      " [54 32 65 12 28 57]\n",
      " [75 75 75 75 75 75]\n",
      " [93 93 93 93 93 93]\n",
      " [26 26 26 26 26 26]\n",
      " [35 35 35 35 35 35]]\n"
     ]
    }
   ],
   "source": [
    "print(C)\n",
    "print(np.transpose(C))"
   ]
  },
  {
   "cell_type": "markdown",
   "metadata": {},
   "source": [
    "But $\\omega$ here is a 1-dimensional array, a vector! It makes perfect to take the transpose of $A$, a $3 \\times 5$ array, as the output will be a $5 \\times 3$ array, but a 1-dimensional array is not quite as intuitive. A typical 1-dimensional array can be thought of as a $1 \\times n$ horizontal vector. Thus, taking the tranpose of this array essentially means changing it into a $n \\times 1$ vertical vector. This makes sense because 1-dimensional arrays are still arrays and any multiplication done between 1-dimensional and higher dimensional arrays must keep in line with our dimensionality issue of matrix multiplication.\n",
    "\n",
    "To make a long story short, we think of $\\omega$ as $1 \\times N$ since we have $N$ securities. This makes it so that $\\omega^\\intercal$ is $N \\times 1$. Again, our covariance matrix is $N \\times N$. So the overall multiplication works out like so, in informal terms:\n",
    "\n",
    "$$ \\text{Dimensions}(\\sigma_p^2) = \\text{Dimensions}(\\omega C \\omega^\\intercal) = (1 \\times N)\\cdot (N \\times N)\\cdot (N \\times 1) = (1 \\times 1)$$\n",
    "\n",
    "Multiplying the covariance matrix on the left by the plain horizontal vector and on the right by that vector's transpose results in the calculation of a single scalar ($1 \\times 1$) value, our portfolio's variance.\n",
    "\n",
    "So knowing this, let's proceed and calculate the portfolio variance! We can easily calculate the product of these arrays by using `dot()` for matrix multiplication, though this time we have to do it twice."
   ]
  },
  {
   "cell_type": "code",
   "execution_count": 71,
   "metadata": {
    "scrolled": false
   },
   "outputs": [
    {
     "name": "stdout",
     "output_type": "stream",
     "text": [
      "Portfolio volatility:  0.0327582128869\n"
     ]
    }
   ],
   "source": [
    "# Calculating the portfolio volatility\n",
    "var_p = np.dot(np.dot(weights, cov_mat), weights.T)\n",
    "vol_p = np.sqrt(var_p)\n",
    "print \"Portfolio volatility: \", vol_p"
   ]
  },
  {
   "cell_type": "code",
   "execution_count": 72,
   "metadata": {},
   "outputs": [
    {
     "name": "stdout",
     "output_type": "stream",
     "text": [
      "Portfolio volatility:  0.0313530666863\n"
     ]
    }
   ],
   "source": [
    "some_varia_p = np.dot(np.dot(some_weights, some_cov_mat), some_weights.T)\n",
    "some_vola_p = np.sqrt(some_varia_p)\n",
    "print \"Portfolio volatility: \", some_vola_p"
   ]
  },
  {
   "cell_type": "markdown",
   "metadata": {},
   "source": [
    "To confirm this calculation, let's simply evaluate the volatility of the portfolio using only NumPy functions."
   ]
  },
  {
   "cell_type": "code",
   "execution_count": 73,
   "metadata": {},
   "outputs": [
    {
     "name": "stdout",
     "output_type": "stream",
     "text": [
      "Portfolio volatility:  0.0327582128869\n"
     ]
    }
   ],
   "source": [
    "# Confirming calculation\n",
    "vol_p_alt = np.sqrt(np.var(np.dot(weights, returns), ddof=1))\n",
    "print \"Portfolio volatility: \", vol_p_alt"
   ]
  },
  {
   "cell_type": "code",
   "execution_count": 74,
   "metadata": {},
   "outputs": [
    {
     "name": "stdout",
     "output_type": "stream",
     "text": [
      "Portfolio volatility:  0.0313530666863 Are the same? False\n"
     ]
    }
   ],
   "source": [
    "some_vol_p_alt = np.sqrt(np.var(np.dot(some_weights, some_returns), ddof=1))\n",
    "print \"Portfolio volatility: \", some_vol_p_alt, 'Are the same?', some_vol_p_alt==some_vola_p"
   ]
  },
  {
   "cell_type": "markdown",
   "metadata": {},
   "source": [
    "The `ddof` parameter is a simple integer input that tells the function the number of degrees of freedom to take into account. This is a more statistical concept, but what this tells us that our matrix calculation is correct!\n",
    "\n",
    "A lot of this might not make sense at first glance. It helps to go back and forth between the theory and the code representations until you have a better grasp of the mathematics involved. It is definitely not necessary to be an expert on linear algebra and on matrix operations, but linear algebra can help to streamline the process of working with large amounts of data. For further reading on NumPy, check out the [documentation](https://docs.scipy.org/doc/numpy/user/index.html)."
   ]
  },
  {
   "cell_type": "markdown",
   "metadata": {},
   "source": [
    "*This presentation is for informational purposes only and does not constitute an offer to sell, a solicitation to buy, or a recommendation for any security; nor does it constitute an offer to provide investment advisory or other services by Quantopian, Inc. (\"Quantopian\"). Nothing contained herein constitutes investment advice or offers any opinion with respect to the suitability of any security, and any views expressed herein should not be taken as advice to buy, sell, or hold any security or as an endorsement of any security or company.  In preparing the information contained herein, Quantopian, Inc. has not taken into account the investment needs, objectives, and financial circumstances of any particular investor. Any views expressed and data illustrated herein were prepared based upon information, believed to be reliable, available to Quantopian, Inc. at the time of publication. Quantopian makes no guarantees as to their accuracy or completeness. All information is subject to change and may quickly become unreliable for various reasons, including changes in market conditions or economic circumstances.*"
   ]
  }
 ],
 "metadata": {
  "kernelspec": {
   "display_name": "Python 3.5",
   "language": "python",
   "name": "py35"
  },
  "language_info": {
   "codemirror_mode": {
    "name": "ipython",
    "version": 3
   },
   "file_extension": ".py",
   "mimetype": "text/x-python",
   "name": "python",
   "nbconvert_exporter": "python",
   "pygments_lexer": "ipython3",
   "version": "3.5.9"
  }
 },
 "nbformat": 4,
 "nbformat_minor": 1
}
